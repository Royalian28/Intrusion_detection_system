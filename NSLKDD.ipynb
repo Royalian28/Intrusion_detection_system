{
 "cells": [
  {
   "cell_type": "code",
   "execution_count": 1,
   "id": "d708be53-663f-41be-8822-2da1921c3255",
   "metadata": {},
   "outputs": [],
   "source": [
    "import pandas as pd\n",
    "import numpy as np\n",
    "import sys\n",
    "import sklearn\n",
    "import io\n",
    "import random"
   ]
  },
  {
   "cell_type": "code",
   "execution_count": 2,
   "id": "bde79eae-236c-495f-a00b-566d321b6791",
   "metadata": {},
   "outputs": [],
   "source": [
    "train_url = 'test.csv'\n",
    "test_url = 'train.csv'"
   ]
  },
  {
   "cell_type": "code",
   "execution_count": 3,
   "id": "51af3d40-2679-49e7-8a20-106a80a259ea",
   "metadata": {},
   "outputs": [
    {
     "name": "stderr",
     "output_type": "stream",
     "text": [
      "C:\\Users\\DHANUSH\\AppData\\Local\\Temp\\ipykernel_17640\\953011988.py:13: DtypeWarning: Columns (38) have mixed types. Specify dtype option on import or set low_memory=False.\n",
      "  df = pd.read_csv(train_url,header=None, names = col_names)\n"
     ]
    },
    {
     "name": "stdout",
     "output_type": "stream",
     "text": [
      "Dimensions of the Training set: (22544, 42)\n",
      "Dimensions of the Test set: (125973, 42)\n"
     ]
    }
   ],
   "source": [
    "col_names = [\"duration\",\"protocol_type\",\"service\",\"flag\",\"src_bytes\",\n",
    "    \"dst_bytes\",\"land\",\"wrong_fragment\",\"urgent\",\"hot\",\"num_failed_logins\",\n",
    "    \"logged_in\",\"num_compromised\",\"root_shell\",\"su_attempted\",\"num_root\",\n",
    "    \"num_file_creations\",\"num_shells\",\"num_access_files\",\"num_outbound_cmds\",\n",
    "    \"is_host_login\",\"is_guest_login\",\"count\",\"srv_count\",\"serror_rate\",\n",
    "    \"srv_serror_rate\",\"rerror_rate\",\"srv_rerror_rate\",\"same_srv_rate\",\n",
    "    \"diff_srv_rate\",\"srv_diff_host_rate\",\"dst_host_count\",\"dst_host_srv_count\",\n",
    "    \"dst_host_same_srv_rate\",\"dst_host_diff_srv_rate\",\"dst_host_same_src_port_rate\",\n",
    "    \"dst_host_srv_diff_host_rate\",\"dst_host_serror_rate\",\"dst_host_srv_serror_rate\",\n",
    "    \"dst_host_rerror_rate\",\"dst_host_srv_rerror_rate\",\"label\"]\n",
    "\n",
    "\n",
    "df = pd.read_csv(train_url,header=None, names = col_names)\n",
    "\n",
    "df_test = pd.read_csv(test_url, header=None, names = col_names)\n",
    "\n",
    "print('Dimensions of the Training set:',df.shape)\n",
    "print('Dimensions of the Test set:',df_test.shape)"
   ]
  },
  {
   "cell_type": "code",
   "execution_count": 4,
   "id": "0513fd71-be73-4137-a1c0-5254cda214ae",
   "metadata": {},
   "outputs": [
    {
     "name": "stdout",
     "output_type": "stream",
     "text": [
      "Label distribution Training set:\n",
      "label\n",
      "21    10694\n",
      "18     2967\n",
      "20     1343\n",
      "15     1176\n",
      "17     1168\n",
      "19      890\n",
      "14      736\n",
      "16      681\n",
      "13      519\n",
      "12      486\n",
      "11      461\n",
      "7       249\n",
      "10      195\n",
      "6       157\n",
      "8       131\n",
      "0       123\n",
      "3       116\n",
      "9       106\n",
      "5       103\n",
      "4       101\n",
      "1        87\n",
      "2        55\n",
      "Name: count, dtype: int64\n",
      "\n",
      "Label distribution Test set:\n",
      "label\n",
      "normal             67343\n",
      "neptune            41214\n",
      "satan               3633\n",
      "ipsweep             3599\n",
      "portsweep           2931\n",
      "smurf               2646\n",
      "nmap                1493\n",
      "back                 956\n",
      "teardrop             892\n",
      "warezclient          890\n",
      "pod                  201\n",
      "guess_passwd          53\n",
      "buffer_overflow       30\n",
      "warezmaster           20\n",
      "land                  18\n",
      "imap                  11\n",
      "rootkit               10\n",
      "loadmodule             9\n",
      "ftp_write              8\n",
      "multihop               7\n",
      "phf                    4\n",
      "perl                   3\n",
      "spy                    2\n",
      "Name: count, dtype: int64\n"
     ]
    }
   ],
   "source": [
    "print('Label distribution Training set:')\n",
    "print(df['label'].value_counts())\n",
    "print()\n",
    "print('Label distribution Test set:')\n",
    "print(df_test['label'].value_counts())"
   ]
  },
  {
   "cell_type": "code",
   "execution_count": 5,
   "id": "e6963bb7-8461-4dc1-9790-a58d749bef4f",
   "metadata": {},
   "outputs": [
    {
     "name": "stdout",
     "output_type": "stream",
     "text": [
      "Training set:\n",
      "Feature 'duration' has 3 categories\n",
      "Feature 'protocol_type' has 64 categories\n",
      "Feature 'service' has 11 categories\n",
      "Feature 'dst_host_serror_rate' has 190 categories\n",
      "Feature 'dst_host_srv_rerror_rate' has 38 categories\n",
      "\n",
      "Distribution of categories in service:\n",
      "service\n",
      "SF      14875\n",
      "REJ      3850\n",
      "S0       2013\n",
      "RSTO      773\n",
      "RSTR      669\n",
      "Name: count, dtype: int64\n"
     ]
    }
   ],
   "source": [
    "print('Training set:')\n",
    "for col_name in df.columns:\n",
    "    if df[col_name].dtypes == 'object' :\n",
    "        unique_cat = len(df[col_name].unique())\n",
    "        print(\"Feature '{col_name}' has {unique_cat} categories\".format(col_name=col_name, unique_cat=unique_cat))\n",
    "\n",
    "print()\n",
    "print('Distribution of categories in service:')\n",
    "print(df['service'].value_counts().sort_values(ascending=False).head())"
   ]
  },
  {
   "cell_type": "code",
   "execution_count": 6,
   "id": "c938681a-8f1f-4d01-8bb0-3ce63001cec1",
   "metadata": {},
   "outputs": [
    {
     "name": "stdout",
     "output_type": "stream",
     "text": [
      "Test set:\n",
      "Feature 'protocol_type' has 3 categories\n",
      "Feature 'service' has 70 categories\n",
      "Feature 'flag' has 11 categories\n",
      "Feature 'label' has 23 categories\n"
     ]
    }
   ],
   "source": [
    "print('Test set:')\n",
    "for col_name in df_test.columns:\n",
    "    if df_test[col_name].dtypes == 'object' :\n",
    "        unique_cat = len(df_test[col_name].unique())\n",
    "        print(\"Feature '{col_name}' has {unique_cat} categories\".format(col_name=col_name, unique_cat=unique_cat))"
   ]
  },
  {
   "cell_type": "code",
   "execution_count": 7,
   "id": "8416290c-78be-4e97-a0c5-54fd552b0244",
   "metadata": {},
   "outputs": [
    {
     "data": {
      "text/html": [
       "<div>\n",
       "<style scoped>\n",
       "    .dataframe tbody tr th:only-of-type {\n",
       "        vertical-align: middle;\n",
       "    }\n",
       "\n",
       "    .dataframe tbody tr th {\n",
       "        vertical-align: top;\n",
       "    }\n",
       "\n",
       "    .dataframe thead th {\n",
       "        text-align: right;\n",
       "    }\n",
       "</style>\n",
       "<table border=\"1\" class=\"dataframe\">\n",
       "  <thead>\n",
       "    <tr style=\"text-align: right;\">\n",
       "      <th></th>\n",
       "      <th>protocol_type</th>\n",
       "      <th>service</th>\n",
       "      <th>flag</th>\n",
       "    </tr>\n",
       "  </thead>\n",
       "  <tbody>\n",
       "    <tr>\n",
       "      <th>0</th>\n",
       "      <td>private</td>\n",
       "      <td>REJ</td>\n",
       "      <td>0</td>\n",
       "    </tr>\n",
       "    <tr>\n",
       "      <th>0</th>\n",
       "      <td>private</td>\n",
       "      <td>REJ</td>\n",
       "      <td>0</td>\n",
       "    </tr>\n",
       "    <tr>\n",
       "      <th>0</th>\n",
       "      <td>ftp_data</td>\n",
       "      <td>SF</td>\n",
       "      <td>12983</td>\n",
       "    </tr>\n",
       "    <tr>\n",
       "      <th>0</th>\n",
       "      <td>eco_i</td>\n",
       "      <td>SF</td>\n",
       "      <td>20</td>\n",
       "    </tr>\n",
       "    <tr>\n",
       "      <th>0</th>\n",
       "      <td>telnet</td>\n",
       "      <td>RSTO</td>\n",
       "      <td>0</td>\n",
       "    </tr>\n",
       "  </tbody>\n",
       "</table>\n",
       "</div>"
      ],
      "text/plain": [
       "  protocol_type service   flag\n",
       "0       private     REJ      0\n",
       "0       private     REJ      0\n",
       "0      ftp_data      SF  12983\n",
       "0         eco_i      SF     20\n",
       "0        telnet    RSTO      0"
      ]
     },
     "execution_count": 7,
     "metadata": {},
     "output_type": "execute_result"
    }
   ],
   "source": [
    "from sklearn.preprocessing import LabelEncoder,OneHotEncoder\n",
    "categorical_columns=['protocol_type', 'service', 'flag']\n",
    "\n",
    "df_categorical_values = df[categorical_columns]\n",
    "testdf_categorical_values = df_test[categorical_columns]\n",
    "\n",
    "df_categorical_values.head()"
   ]
  },
  {
   "cell_type": "code",
   "execution_count": 8,
   "id": "b3187124-1a8f-41be-ba3a-0a61e2c148df",
   "metadata": {},
   "outputs": [
    {
     "name": "stdout",
     "output_type": "stream",
     "text": [
      "['Protocol_type_IRC', 'Protocol_type_X11', 'Protocol_type_Z39_50', 'Protocol_type_auth', 'Protocol_type_bgp', 'Protocol_type_courier', 'Protocol_type_csnet_ns', 'Protocol_type_ctf', 'Protocol_type_daytime', 'Protocol_type_discard', 'Protocol_type_domain', 'Protocol_type_domain_u', 'Protocol_type_echo', 'Protocol_type_eco_i', 'Protocol_type_ecr_i', 'Protocol_type_efs', 'Protocol_type_exec', 'Protocol_type_finger', 'Protocol_type_ftp', 'Protocol_type_ftp_data', 'Protocol_type_gopher', 'Protocol_type_hostnames', 'Protocol_type_http', 'Protocol_type_http_443', 'Protocol_type_imap4', 'Protocol_type_iso_tsap', 'Protocol_type_klogin', 'Protocol_type_kshell', 'Protocol_type_ldap', 'Protocol_type_link', 'Protocol_type_login', 'Protocol_type_mtp', 'Protocol_type_name', 'Protocol_type_netbios_dgm', 'Protocol_type_netbios_ns', 'Protocol_type_netbios_ssn', 'Protocol_type_netstat', 'Protocol_type_nnsp', 'Protocol_type_nntp', 'Protocol_type_ntp_u', 'Protocol_type_other', 'Protocol_type_pm_dump', 'Protocol_type_pop_2', 'Protocol_type_pop_3', 'Protocol_type_printer', 'Protocol_type_private', 'Protocol_type_remote_job', 'Protocol_type_rje', 'Protocol_type_shell', 'Protocol_type_smtp', 'Protocol_type_sql_net', 'Protocol_type_ssh', 'Protocol_type_sunrpc', 'Protocol_type_supdup', 'Protocol_type_systat', 'Protocol_type_telnet', 'Protocol_type_tftp_u', 'Protocol_type_tim_i', 'Protocol_type_time', 'Protocol_type_urp_i', 'Protocol_type_uucp', 'Protocol_type_uucp_path', 'Protocol_type_vmnet', 'Protocol_type_whois']\n",
      "['service_OTH', 'service_REJ', 'service_RSTO', 'service_RSTOS0', 'service_RSTR', 'service_S0', 'service_S1', 'service_S2', 'service_S3', 'service_SF', 'service_SH']\n"
     ]
    }
   ],
   "source": [
    "unique_protocol=sorted(df.protocol_type.unique())\n",
    "string1 = 'Protocol_type_'\n",
    "unique_protocol2=[string1 + x for x in unique_protocol]\n",
    "print(unique_protocol2)\n",
    "\n",
    "# service\n",
    "unique_service=sorted(df.service.unique())\n",
    "string2 = 'service_'\n",
    "unique_service2=[string2 + x for x in unique_service]\n",
    "print(unique_service2)"
   ]
  },
  {
   "cell_type": "code",
   "execution_count": 10,
   "id": "5a4673b9-ea9d-4c75-83cb-6157dd8c72b2",
   "metadata": {},
   "outputs": [
    {
     "name": "stdout",
     "output_type": "stream",
     "text": [
      "['flag_0', 'flag_1', 'flag_2', 'flag_5', 'flag_6', 'flag_7', 'flag_8', 'flag_9', 'flag_10', 'flag_11', 'flag_12', 'flag_13', 'flag_14', 'flag_15', 'flag_16', 'flag_17', 'flag_18', 'flag_19', 'flag_20', 'flag_21', 'flag_22', 'flag_23', 'flag_24', 'flag_25', 'flag_26', 'flag_27', 'flag_28', 'flag_29', 'flag_30', 'flag_31', 'flag_32', 'flag_33', 'flag_34', 'flag_35', 'flag_36', 'flag_37', 'flag_38', 'flag_40', 'flag_41', 'flag_42', 'flag_43', 'flag_44', 'flag_45', 'flag_46', 'flag_47', 'flag_48', 'flag_49', 'flag_50', 'flag_51', 'flag_52', 'flag_53', 'flag_54', 'flag_55', 'flag_56', 'flag_59', 'flag_61', 'flag_63', 'flag_64', 'flag_66', 'flag_67', 'flag_69', 'flag_70', 'flag_72', 'flag_74', 'flag_75', 'flag_76', 'flag_77', 'flag_78', 'flag_79', 'flag_80', 'flag_81', 'flag_85', 'flag_86', 'flag_89', 'flag_90', 'flag_91', 'flag_93', 'flag_94', 'flag_95', 'flag_96', 'flag_97', 'flag_99', 'flag_101', 'flag_102', 'flag_103', 'flag_105', 'flag_107', 'flag_109', 'flag_110', 'flag_111', 'flag_112', 'flag_114', 'flag_115', 'flag_116', 'flag_117', 'flag_118', 'flag_119', 'flag_120', 'flag_121', 'flag_122', 'flag_123', 'flag_124', 'flag_125', 'flag_126', 'flag_127', 'flag_128', 'flag_129', 'flag_130', 'flag_131', 'flag_132', 'flag_133', 'flag_135', 'flag_137', 'flag_139', 'flag_140', 'flag_141', 'flag_142', 'flag_143', 'flag_144', 'flag_145', 'flag_146', 'flag_147', 'flag_148', 'flag_149', 'flag_150', 'flag_151', 'flag_152', 'flag_153', 'flag_154', 'flag_155', 'flag_156', 'flag_157', 'flag_158', 'flag_159', 'flag_160', 'flag_161', 'flag_162', 'flag_163', 'flag_164', 'flag_165', 'flag_166', 'flag_167', 'flag_168', 'flag_169', 'flag_170', 'flag_171', 'flag_172', 'flag_173', 'flag_174', 'flag_175', 'flag_176', 'flag_177', 'flag_178', 'flag_179', 'flag_180', 'flag_181', 'flag_182', 'flag_183', 'flag_184', 'flag_185', 'flag_186', 'flag_187', 'flag_188', 'flag_189', 'flag_190', 'flag_191', 'flag_192', 'flag_193', 'flag_194', 'flag_195', 'flag_196', 'flag_197', 'flag_198', 'flag_199', 'flag_200', 'flag_201', 'flag_202', 'flag_203', 'flag_204', 'flag_205', 'flag_206', 'flag_207', 'flag_208', 'flag_209', 'flag_210', 'flag_211', 'flag_212', 'flag_213', 'flag_214', 'flag_215', 'flag_216', 'flag_217', 'flag_218', 'flag_219', 'flag_220', 'flag_221', 'flag_222', 'flag_223', 'flag_224', 'flag_225', 'flag_226', 'flag_227', 'flag_228', 'flag_229', 'flag_230', 'flag_231', 'flag_232', 'flag_233', 'flag_234', 'flag_235', 'flag_236', 'flag_237', 'flag_238', 'flag_239', 'flag_240', 'flag_241', 'flag_242', 'flag_243', 'flag_244', 'flag_245', 'flag_246', 'flag_247', 'flag_248', 'flag_249', 'flag_250', 'flag_251', 'flag_252', 'flag_253', 'flag_254', 'flag_255', 'flag_256', 'flag_257', 'flag_258', 'flag_259', 'flag_260', 'flag_261', 'flag_262', 'flag_263', 'flag_264', 'flag_265', 'flag_266', 'flag_267', 'flag_268', 'flag_269', 'flag_270', 'flag_271', 'flag_272', 'flag_273', 'flag_274', 'flag_275', 'flag_276', 'flag_277', 'flag_278', 'flag_279', 'flag_280', 'flag_281', 'flag_282', 'flag_283', 'flag_284', 'flag_285', 'flag_286', 'flag_287', 'flag_288', 'flag_289', 'flag_290', 'flag_291', 'flag_292', 'flag_293', 'flag_294', 'flag_295', 'flag_296', 'flag_297', 'flag_298', 'flag_299', 'flag_300', 'flag_301', 'flag_302', 'flag_303', 'flag_304', 'flag_305', 'flag_306', 'flag_307', 'flag_308', 'flag_309', 'flag_310', 'flag_311', 'flag_312', 'flag_313', 'flag_314', 'flag_315', 'flag_316', 'flag_317', 'flag_318', 'flag_319', 'flag_320', 'flag_321', 'flag_322', 'flag_323', 'flag_324', 'flag_325', 'flag_326', 'flag_327', 'flag_328', 'flag_329', 'flag_330', 'flag_331', 'flag_332', 'flag_333', 'flag_334', 'flag_335', 'flag_336', 'flag_337', 'flag_338', 'flag_339', 'flag_340', 'flag_341', 'flag_342', 'flag_343', 'flag_344', 'flag_345', 'flag_346', 'flag_347', 'flag_348', 'flag_349', 'flag_350', 'flag_351', 'flag_352', 'flag_353', 'flag_354', 'flag_355', 'flag_356', 'flag_357', 'flag_358', 'flag_359', 'flag_360', 'flag_361', 'flag_362', 'flag_363', 'flag_364', 'flag_365', 'flag_366', 'flag_367', 'flag_368', 'flag_369', 'flag_370', 'flag_371', 'flag_372', 'flag_373', 'flag_375', 'flag_376', 'flag_377', 'flag_378', 'flag_379', 'flag_380', 'flag_381', 'flag_382', 'flag_383', 'flag_384', 'flag_385', 'flag_386', 'flag_387', 'flag_388', 'flag_389', 'flag_391', 'flag_393', 'flag_395', 'flag_396', 'flag_398', 'flag_400', 'flag_401', 'flag_402', 'flag_405', 'flag_406', 'flag_408', 'flag_411', 'flag_412', 'flag_415', 'flag_421', 'flag_422', 'flag_426', 'flag_428', 'flag_429', 'flag_432', 'flag_441', 'flag_455', 'flag_460', 'flag_464', 'flag_478', 'flag_479', 'flag_483', 'flag_484', 'flag_492', 'flag_504', 'flag_505', 'flag_507', 'flag_508', 'flag_510', 'flag_511', 'flag_512', 'flag_516', 'flag_520', 'flag_523', 'flag_533', 'flag_547', 'flag_550', 'flag_552', 'flag_564', 'flag_566', 'flag_568', 'flag_569', 'flag_577', 'flag_579', 'flag_583', 'flag_600', 'flag_604', 'flag_607', 'flag_613', 'flag_614', 'flag_615', 'flag_616', 'flag_621', 'flag_636', 'flag_637', 'flag_641', 'flag_642', 'flag_644', 'flag_645', 'flag_648', 'flag_650', 'flag_652', 'flag_656', 'flag_660', 'flag_662', 'flag_663', 'flag_667', 'flag_672', 'flag_673', 'flag_674', 'flag_677', 'flag_679', 'flag_682', 'flag_687', 'flag_692', 'flag_698', 'flag_714', 'flag_717', 'flag_718', 'flag_720', 'flag_721', 'flag_722', 'flag_723', 'flag_724', 'flag_727', 'flag_729', 'flag_736', 'flag_737', 'flag_738', 'flag_740', 'flag_741', 'flag_745', 'flag_747', 'flag_749', 'flag_751', 'flag_756', 'flag_762', 'flag_763', 'flag_768', 'flag_771', 'flag_772', 'flag_773', 'flag_774', 'flag_776', 'flag_777', 'flag_779', 'flag_780', 'flag_785', 'flag_787', 'flag_788', 'flag_794', 'flag_802', 'flag_812', 'flag_814', 'flag_818', 'flag_820', 'flag_822', 'flag_828', 'flag_831', 'flag_832', 'flag_836', 'flag_844', 'flag_846', 'flag_848', 'flag_853', 'flag_854', 'flag_856', 'flag_857', 'flag_859', 'flag_860', 'flag_864', 'flag_865', 'flag_867', 'flag_868', 'flag_869', 'flag_870', 'flag_871', 'flag_873', 'flag_877', 'flag_879', 'flag_881', 'flag_884', 'flag_885', 'flag_887', 'flag_889', 'flag_892', 'flag_893', 'flag_898', 'flag_904', 'flag_905', 'flag_906', 'flag_907', 'flag_910', 'flag_914', 'flag_917', 'flag_921', 'flag_924', 'flag_926', 'flag_930', 'flag_932', 'flag_933', 'flag_934', 'flag_938', 'flag_942', 'flag_947', 'flag_950', 'flag_952', 'flag_956', 'flag_957', 'flag_965', 'flag_969', 'flag_970', 'flag_978', 'flag_979', 'flag_981', 'flag_985', 'flag_987', 'flag_988', 'flag_990', 'flag_991', 'flag_993', 'flag_995', 'flag_998', 'flag_1004', 'flag_1006', 'flag_1008', 'flag_1010', 'flag_1012', 'flag_1022', 'flag_1023', 'flag_1024', 'flag_1028', 'flag_1030', 'flag_1031', 'flag_1032', 'flag_1036', 'flag_1037', 'flag_1038', 'flag_1040', 'flag_1041', 'flag_1043', 'flag_1044', 'flag_1046', 'flag_1048', 'flag_1050', 'flag_1052', 'flag_1053', 'flag_1055', 'flag_1057', 'flag_1058', 'flag_1067', 'flag_1069', 'flag_1072', 'flag_1073', 'flag_1074', 'flag_1077', 'flag_1078', 'flag_1081', 'flag_1082', 'flag_1083', 'flag_1085', 'flag_1089', 'flag_1092', 'flag_1093', 'flag_1095', 'flag_1096', 'flag_1100', 'flag_1103', 'flag_1107', 'flag_1115', 'flag_1118', 'flag_1121', 'flag_1129', 'flag_1141', 'flag_1143', 'flag_1144', 'flag_1146', 'flag_1147', 'flag_1148', 'flag_1151', 'flag_1153', 'flag_1158', 'flag_1164', 'flag_1167', 'flag_1169', 'flag_1175', 'flag_1176', 'flag_1179', 'flag_1184', 'flag_1190', 'flag_1196', 'flag_1199', 'flag_1201', 'flag_1202', 'flag_1206', 'flag_1212', 'flag_1214', 'flag_1215', 'flag_1216', 'flag_1222', 'flag_1224', 'flag_1227', 'flag_1231', 'flag_1239', 'flag_1241', 'flag_1256', 'flag_1264', 'flag_1271', 'flag_1273', 'flag_1275', 'flag_1276', 'flag_1277', 'flag_1281', 'flag_1288', 'flag_1292', 'flag_1294', 'flag_1296', 'flag_1301', 'flag_1302', 'flag_1304', 'flag_1309', 'flag_1313', 'flag_1315', 'flag_1316', 'flag_1319', 'flag_1325', 'flag_1333', 'flag_1339', 'flag_1342', 'flag_1347', 'flag_1352', 'flag_1356', 'flag_1360', 'flag_1363', 'flag_1366', 'flag_1369', 'flag_1371', 'flag_1372', 'flag_1373', 'flag_1376', 'flag_1378', 'flag_1380', 'flag_1382', 'flag_1387', 'flag_1392', 'flag_1396', 'flag_1397', 'flag_1402', 'flag_1406', 'flag_1407', 'flag_1410', 'flag_1411', 'flag_1428', 'flag_1431', 'flag_1433', 'flag_1434', 'flag_1435', 'flag_1439', 'flag_1441', 'flag_1447', 'flag_1455', 'flag_1458', 'flag_1464', 'flag_1467', 'flag_1479', 'flag_1480', 'flag_1481', 'flag_1486', 'flag_1488', 'flag_1497', 'flag_1500', 'flag_1503', 'flag_1507', 'flag_1510', 'flag_1512', 'flag_1515', 'flag_1517', 'flag_1520', 'flag_1522', 'flag_1523', 'flag_1525', 'flag_1534', 'flag_1536', 'flag_1539', 'flag_1541', 'flag_1550', 'flag_1562', 'flag_1564', 'flag_1565', 'flag_1566', 'flag_1567', 'flag_1571', 'flag_1579', 'flag_1585', 'flag_1586', 'flag_1588', 'flag_1589', 'flag_1591', 'flag_1595', 'flag_1596', 'flag_1613', 'flag_1617', 'flag_1620', 'flag_1626', 'flag_1627', 'flag_1631', 'flag_1651', 'flag_1652', 'flag_1658', 'flag_1659', 'flag_1661', 'flag_1663', 'flag_1668', 'flag_1671', 'flag_1676', 'flag_1677', 'flag_1680', 'flag_1684', 'flag_1689', 'flag_1690', 'flag_1691', 'flag_1692', 'flag_1698', 'flag_1699', 'flag_1710', 'flag_1713', 'flag_1731', 'flag_1734', 'flag_1753', 'flag_1761', 'flag_1766', 'flag_1773', 'flag_1797', 'flag_1798', 'flag_1814', 'flag_1816', 'flag_1822', 'flag_1824', 'flag_1837', 'flag_1844', 'flag_1854', 'flag_1858', 'flag_1862', 'flag_1868', 'flag_1871', 'flag_1874', 'flag_1881', 'flag_1885', 'flag_1892', 'flag_1902', 'flag_1907', 'flag_1909', 'flag_1918', 'flag_1952', 'flag_1959', 'flag_1961', 'flag_1965', 'flag_1975', 'flag_1991', 'flag_2005', 'flag_2012', 'flag_2015', 'flag_2027', 'flag_2036', 'flag_2049', 'flag_2054', 'flag_2056', 'flag_2098', 'flag_2113', 'flag_2122', 'flag_2134', 'flag_2138', 'flag_2149', 'flag_2183', 'flag_2185', 'flag_2190', 'flag_2191', 'flag_2207', 'flag_2209', 'flag_2235', 'flag_2236', 'flag_2249', 'flag_2254', 'flag_2266', 'flag_2306', 'flag_2318', 'flag_2346', 'flag_2376', 'flag_2380', 'flag_2407', 'flag_2409', 'flag_2416', 'flag_2427', 'flag_2430', 'flag_2442', 'flag_2447', 'flag_2458', 'flag_2464', 'flag_2470', 'flag_2484', 'flag_2512', 'flag_2525', 'flag_2556', 'flag_2564', 'flag_2574', 'flag_2575', 'flag_2586', 'flag_2599', 'flag_2602', 'flag_2615', 'flag_2625', 'flag_2653', 'flag_2664', 'flag_2680', 'flag_2686', 'flag_2715', 'flag_2717', 'flag_2726', 'flag_2727', 'flag_2742', 'flag_2773', 'flag_2776', 'flag_2783', 'flag_2784', 'flag_2799', 'flag_2813', 'flag_2829', 'flag_2833', 'flag_2839', 'flag_2848', 'flag_2851', 'flag_2867', 'flag_2881', 'flag_2888', 'flag_2908', 'flag_2923', 'flag_2940', 'flag_2954', 'flag_2956', 'flag_3022', 'flag_3061', 'flag_3122', 'flag_3134', 'flag_3136', 'flag_3144', 'flag_3166', 'flag_3190', 'flag_3216', 'flag_3219', 'flag_3222', 'flag_3256', 'flag_3346', 'flag_3514', 'flag_3548', 'flag_3594', 'flag_3601', 'flag_3650', 'flag_3676', 'flag_3690', 'flag_3720', 'flag_3741', 'flag_3750', 'flag_3760', 'flag_3775', 'flag_3787', 'flag_3831', 'flag_3865', 'flag_3904', 'flag_3909', 'flag_3944', 'flag_4024', 'flag_4030', 'flag_4034', 'flag_4183', 'flag_4209', 'flag_4226', 'flag_4237', 'flag_4247', 'flag_4255', 'flag_4321', 'flag_4329', 'flag_4455', 'flag_4474', 'flag_4485', 'flag_4508', 'flag_4539', 'flag_4693', 'flag_4734', 'flag_4753', 'flag_4763', 'flag_4764', 'flag_4816', 'flag_4943', 'flag_5072', 'flag_5150', 'flag_5229', 'flag_5336', 'flag_5363', 'flag_5470', 'flag_5558', 'flag_5585', 'flag_5603', 'flag_5707', 'flag_5772', 'flag_5820', 'flag_5929', 'flag_5959', 'flag_6259', 'flag_6408', 'flag_6581', 'flag_6601', 'flag_6864', 'flag_6932', 'flag_7012', 'flag_7065', 'flag_7074', 'flag_7077', 'flag_7162', 'flag_7184', 'flag_7233', 'flag_7280', 'flag_7658', 'flag_7673', 'flag_7935', 'flag_7940', 'flag_8173', 'flag_8324', 'flag_8334', 'flag_8574', 'flag_8737', 'flag_8766', 'flag_8873', 'flag_9178', 'flag_9311', 'flag_9626', 'flag_9664', 'flag_9752', 'flag_9849', 'flag_10008', 'flag_10044', 'flag_10073', 'flag_10220', 'flag_10389', 'flag_10545', 'flag_10804', 'flag_10925', 'flag_10946', 'flag_11244', 'flag_11543', 'flag_11601', 'flag_11629', 'flag_11728', 'flag_11786', 'flag_11939', 'flag_12127', 'flag_12241', 'flag_12324', 'flag_12704', 'flag_12983', 'flag_13239', 'flag_13334', 'flag_13948', 'flag_14052', 'flag_14189', 'flag_14241', 'flag_14537', 'flag_14987', 'flag_15216', 'flag_15377', 'flag_15424', 'flag_15722', 'flag_15827', 'flag_15876', 'flag_16115', 'flag_16196', 'flag_16225', 'flag_16384', 'flag_16550', 'flag_16787', 'flag_17084', 'flag_18158', 'flag_18290', 'flag_19794', 'flag_19822', 'flag_20004', 'flag_20008', 'flag_20193', 'flag_20879', 'flag_21184', 'flag_21464', 'flag_22568', 'flag_22624', 'flag_24064', 'flag_25504', 'flag_25844', 'flag_26604', 'flag_27472', 'flag_27496', 'flag_27572', 'flag_29194', 'flag_29824', 'flag_30204', 'flag_30678', 'flag_30774', 'flag_32120', 'flag_32813', 'flag_33144', 'flag_33580', 'flag_34144', 'flag_35892', 'flag_35972', 'flag_36500', 'flag_37024', 'flag_37960', 'flag_38464', 'flag_38518', 'flag_39198', 'flag_39224', 'flag_39259', 'flag_39276', 'flag_39282', 'flag_39420', 'flag_40008', 'flag_40494', 'flag_41344', 'flag_42340', 'flag_42562', 'flag_44224', 'flag_44748', 'flag_45260', 'flag_46134', 'flag_46284', 'flag_47744', 'flag_48181', 'flag_49204', 'flag_49984', 'flag_50004', 'flag_51100', 'flag_53584', 'flag_53816', 'flag_54304', 'flag_54540', 'flag_55044', 'flag_55744', 'flag_56068', 'flag_56124', 'flag_56504', 'flag_57164', 'flag_57184', 'flag_57964', 'flag_58624', 'flag_59424', 'flag_60064', 'flag_60884', 'flag_61298', 'flag_61504', 'flag_61712', 'flag_62344', 'flag_63804', 'flag_65264', 'flag_68184', 'flag_68704', 'flag_69644', 'flag_70144', 'flag_71056', 'flag_71104', 'flag_71584', 'flag_72128', 'flag_72564', 'flag_72716', 'flag_72868', 'flag_73024', 'flag_74024', 'flag_74464', 'flag_75484', 'flag_75904', 'flag_76944', 'flag_77332', 'flag_77344', 'flag_78162', 'flag_78202', 'flag_78204', 'flag_78404', 'flag_79864', 'flag_80224', 'flag_81324', 'flag_81920', 'flag_82944', 'flag_85704', 'flag_86392', 'flag_87164', 'flag_88064', 'flag_88382', 'flag_88624', 'flag_90084', 'flag_91544', 'flag_92566', 'flag_93004', 'flag_93184', 'flag_93238', 'flag_101764', 'flag_129862', 'flag_138946', 'flag_139508', 'flag_154342', 'flag_175337', 'flag_176412', 'flag_181832', 'flag_240118', 'flag_256000', 'flag_283618', 'flag_286040', 'flag_294812', 'flag_501760', 'flag_1262796', 'flag_2194619', 'flag_3131464', 'flag_3886954', 'flag_6291668', 'flag_31645608', 'flag_62825648']\n"
     ]
    }
   ],
   "source": [
    "# flag\n",
    "unique_flag=sorted(df.flag.unique())\n",
    "string3 = 'flag_'\n",
    "unique_flag2 = [string3 + str(x) for x in unique_flag]\n",
    "print(unique_flag2)"
   ]
  },
  {
   "cell_type": "code",
   "execution_count": 11,
   "id": "ef75fd12-b09f-4e0f-b931-bfd1d88acd3b",
   "metadata": {},
   "outputs": [],
   "source": [
    "# put together\n",
    "dumcols=unique_protocol2 + unique_service2 + unique_flag2"
   ]
  },
  {
   "cell_type": "code",
   "execution_count": 12,
   "id": "dc9c2961-db70-47f7-a1b3-276b85d71af1",
   "metadata": {},
   "outputs": [],
   "source": [
    "#do it for test set\n",
    "unique_service_test=sorted(df_test.service.unique())\n",
    "unique_service2_test=[string2 + x for x in unique_service_test]\n",
    "testdumcols=unique_protocol2 + unique_service2_test + unique_flag2"
   ]
  },
  {
   "cell_type": "code",
   "execution_count": 13,
   "id": "7cb72f7b-7c24-4853-ae3b-c392ca23a8ec",
   "metadata": {},
   "outputs": [
    {
     "name": "stdout",
     "output_type": "stream",
     "text": [
      "  protocol_type service   flag\n",
      "0       private     REJ      0\n",
      "0       private     REJ      0\n",
      "0      ftp_data      SF  12983\n",
      "0         eco_i      SF     20\n",
      "0        telnet    RSTO      0\n",
      "--------------------\n",
      "   protocol_type  service  flag\n",
      "0             45        1     0\n",
      "0             45        1     0\n",
      "0             19        9   986\n",
      "0             13        9    18\n",
      "0             55        2     0\n"
     ]
    }
   ],
   "source": [
    "df_categorical_values_enc=df_categorical_values.apply(LabelEncoder().fit_transform)\n",
    "\n",
    "print(df_categorical_values.head())\n",
    "print('--------------------')\n",
    "print(df_categorical_values_enc.head())"
   ]
  },
  {
   "cell_type": "code",
   "execution_count": 14,
   "id": "c3131eca-7634-4ec3-868c-92c5e86d3270",
   "metadata": {},
   "outputs": [],
   "source": [
    "# test set\n",
    "testdf_categorical_values_enc=testdf_categorical_values.apply(LabelEncoder().fit_transform)"
   ]
  },
  {
   "cell_type": "code",
   "execution_count": 15,
   "id": "91a45e50-2fb4-418a-8d14-5c0c5b66aa2d",
   "metadata": {},
   "outputs": [],
   "source": [
    "enc = OneHotEncoder(categories='auto')\n",
    "df_categorical_values_encenc = enc.fit_transform(df_categorical_values_enc)\n",
    "df_cat_data = pd.DataFrame(df_categorical_values_encenc.toarray(),columns=dumcols)"
   ]
  },
  {
   "cell_type": "code",
   "execution_count": 17,
   "id": "378af1fe-4396-40fe-9734-4267507d4a51",
   "metadata": {},
   "outputs": [],
   "source": [
    "# Fit and transform the training data\n",
    "enc = OneHotEncoder(categories='auto')\n",
    "df_categorical_values_encenc = enc.fit_transform(df_categorical_values_enc)\n",
    "\n",
    "# Generate column names from the encoder's categories_\n",
    "column_names = [f\"{col}_{val}\" for col, vals in zip(categorical_columns, enc.categories_) for val in vals]\n",
    "\n",
    "# Create the training dataframe\n",
    "df_cat_data = pd.DataFrame(df_categorical_values_encenc.toarray(), columns=column_names)\n",
    "\n",
    "# Fit and transform the test data\n",
    "testdf_categorical_values_encenc = enc.fit_transform(testdf_categorical_values_enc)\n",
    "\n",
    "# Generate column names from the encoder's categories_\n",
    "test_column_names = [f\"{col}_{val}\" for col, vals in zip(categorical_columns, enc.categories_) for val in vals]\n",
    "\n",
    "# Create the test dataframe\n",
    "testdf_cat_data = pd.DataFrame(testdf_categorical_values_encenc.toarray(), columns=test_column_names)"
   ]
  },
  {
   "cell_type": "code",
   "execution_count": 18,
   "id": "1921a632-0e9f-4a3f-afa5-2962b698fd81",
   "metadata": {},
   "outputs": [
    {
     "name": "stdout",
     "output_type": "stream",
     "text": [
      "(22544, 39)\n",
      "(125973, 39)\n",
      "Index(['duration', 'src_bytes', 'dst_bytes', 'land', 'wrong_fragment',\n",
      "       'urgent', 'hot', 'num_failed_logins', 'logged_in', 'num_compromised',\n",
      "       'root_shell', 'su_attempted', 'num_root', 'num_file_creations',\n",
      "       'num_shells', 'num_access_files', 'num_outbound_cmds', 'is_host_login',\n",
      "       'is_guest_login', 'count', 'srv_count', 'serror_rate',\n",
      "       'srv_serror_rate', 'rerror_rate', 'srv_rerror_rate', 'same_srv_rate',\n",
      "       'diff_srv_rate', 'srv_diff_host_rate', 'dst_host_count',\n",
      "       'dst_host_srv_count', 'dst_host_same_srv_rate',\n",
      "       'dst_host_diff_srv_rate', 'dst_host_same_src_port_rate',\n",
      "       'dst_host_srv_diff_host_rate', 'dst_host_serror_rate',\n",
      "       'dst_host_srv_serror_rate', 'dst_host_rerror_rate',\n",
      "       'dst_host_srv_rerror_rate', 'label'],\n",
      "      dtype='object')\n",
      "Index(['duration', 'src_bytes', 'dst_bytes', 'land', 'wrong_fragment',\n",
      "       'urgent', 'hot', 'num_failed_logins', 'logged_in', 'num_compromised',\n",
      "       'root_shell', 'su_attempted', 'num_root', 'num_file_creations',\n",
      "       'num_shells', 'num_access_files', 'num_outbound_cmds', 'is_host_login',\n",
      "       'is_guest_login', 'count', 'srv_count', 'serror_rate',\n",
      "       'srv_serror_rate', 'rerror_rate', 'srv_rerror_rate', 'same_srv_rate',\n",
      "       'diff_srv_rate', 'srv_diff_host_rate', 'dst_host_count',\n",
      "       'dst_host_srv_count', 'dst_host_same_srv_rate',\n",
      "       'dst_host_diff_srv_rate', 'dst_host_same_src_port_rate',\n",
      "       'dst_host_srv_diff_host_rate', 'dst_host_serror_rate',\n",
      "       'dst_host_srv_serror_rate', 'dst_host_rerror_rate',\n",
      "       'dst_host_srv_rerror_rate', 'label'],\n",
      "      dtype='object')\n"
     ]
    }
   ],
   "source": [
    "#Identify unique 'service' values in training and test sets\n",
    "trainservice = set(df)\n",
    "testservice = set(df_test)\n",
    "\n",
    "# Find the differences\n",
    "difference = list(trainservice - testservice)\n",
    "\n",
    "# Prepend 'service_' to the differing values\n",
    "# string = 'service_'\n",
    "# difference = [string + x for x in difference]\n",
    "\n",
    "# Add missing columns to the test data and initialize them with 0\n",
    "for col in difference:\n",
    "    df_test[col] = 0\n",
    "\n",
    "df.drop(['flag', 'protocol_type', 'service'], axis=1, inplace=True)\n",
    "df_test.drop(['flag', 'protocol_type', 'service'], axis=1, inplace=True)\n",
    "\n",
    "print(df.shape)\n",
    "print(df_test.shape)\n",
    "print(df.columns)\n",
    "print(df_test.columns)"
   ]
  },
  {
   "cell_type": "code",
   "execution_count": 22,
   "id": "de581ba9-ab1a-42d3-a390-fd68ec344d3d",
   "metadata": {},
   "outputs": [],
   "source": [
    "columns_to_drop = ['flag', 'protocol_type', 'service']\n",
    "\n",
    "# Check if the columns exist in the dataframe before dropping\n",
    "for col in columns_to_drop:\n",
    "    if col in df.columns:\n",
    "        df = df.drop(col, axis=1)\n",
    "    if col in df_test.columns:\n",
    "        df_test = df_test.drop(col, axis=1)\n"
   ]
  },
  {
   "cell_type": "code",
   "execution_count": 25,
   "id": "d01f4b23-8c07-4e83-b6ff-5d15f6bb1766",
   "metadata": {},
   "outputs": [
    {
     "data": {
      "text/html": [
       "<div>\n",
       "<style scoped>\n",
       "    .dataframe tbody tr th:only-of-type {\n",
       "        vertical-align: middle;\n",
       "    }\n",
       "\n",
       "    .dataframe tbody tr th {\n",
       "        vertical-align: top;\n",
       "    }\n",
       "\n",
       "    .dataframe thead th {\n",
       "        text-align: right;\n",
       "    }\n",
       "</style>\n",
       "<table border=\"1\" class=\"dataframe\">\n",
       "  <thead>\n",
       "    <tr style=\"text-align: right;\">\n",
       "      <th></th>\n",
       "      <th>duration</th>\n",
       "      <th>src_bytes</th>\n",
       "      <th>dst_bytes</th>\n",
       "      <th>land</th>\n",
       "      <th>wrong_fragment</th>\n",
       "      <th>urgent</th>\n",
       "      <th>hot</th>\n",
       "      <th>num_failed_logins</th>\n",
       "      <th>logged_in</th>\n",
       "      <th>num_compromised</th>\n",
       "      <th>...</th>\n",
       "      <th>dst_host_srv_count</th>\n",
       "      <th>dst_host_same_srv_rate</th>\n",
       "      <th>dst_host_diff_srv_rate</th>\n",
       "      <th>dst_host_same_src_port_rate</th>\n",
       "      <th>dst_host_srv_diff_host_rate</th>\n",
       "      <th>dst_host_serror_rate</th>\n",
       "      <th>dst_host_srv_serror_rate</th>\n",
       "      <th>dst_host_rerror_rate</th>\n",
       "      <th>dst_host_srv_rerror_rate</th>\n",
       "      <th>label</th>\n",
       "    </tr>\n",
       "  </thead>\n",
       "  <tbody>\n",
       "    <tr>\n",
       "      <th>0</th>\n",
       "      <td>tcp</td>\n",
       "      <td>0</td>\n",
       "      <td>0</td>\n",
       "      <td>0</td>\n",
       "      <td>0</td>\n",
       "      <td>0</td>\n",
       "      <td>0</td>\n",
       "      <td>0</td>\n",
       "      <td>0</td>\n",
       "      <td>0</td>\n",
       "      <td>...</td>\n",
       "      <td>0.04</td>\n",
       "      <td>0.06</td>\n",
       "      <td>0.00</td>\n",
       "      <td>0.00</td>\n",
       "      <td>0.0</td>\n",
       "      <td>0</td>\n",
       "      <td>1.00</td>\n",
       "      <td>1.00</td>\n",
       "      <td>neptune</td>\n",
       "      <td>21</td>\n",
       "    </tr>\n",
       "    <tr>\n",
       "      <th>0</th>\n",
       "      <td>tcp</td>\n",
       "      <td>0</td>\n",
       "      <td>0</td>\n",
       "      <td>0</td>\n",
       "      <td>0</td>\n",
       "      <td>0</td>\n",
       "      <td>0</td>\n",
       "      <td>0</td>\n",
       "      <td>0</td>\n",
       "      <td>0</td>\n",
       "      <td>...</td>\n",
       "      <td>0.00</td>\n",
       "      <td>0.06</td>\n",
       "      <td>0.00</td>\n",
       "      <td>0.00</td>\n",
       "      <td>0.0</td>\n",
       "      <td>0</td>\n",
       "      <td>1.00</td>\n",
       "      <td>1.00</td>\n",
       "      <td>neptune</td>\n",
       "      <td>21</td>\n",
       "    </tr>\n",
       "    <tr>\n",
       "      <th>0</th>\n",
       "      <td>tcp</td>\n",
       "      <td>0</td>\n",
       "      <td>0</td>\n",
       "      <td>0</td>\n",
       "      <td>0</td>\n",
       "      <td>0</td>\n",
       "      <td>0</td>\n",
       "      <td>0</td>\n",
       "      <td>0</td>\n",
       "      <td>0</td>\n",
       "      <td>...</td>\n",
       "      <td>0.61</td>\n",
       "      <td>0.04</td>\n",
       "      <td>0.61</td>\n",
       "      <td>0.02</td>\n",
       "      <td>0.0</td>\n",
       "      <td>0</td>\n",
       "      <td>0.00</td>\n",
       "      <td>0.00</td>\n",
       "      <td>normal</td>\n",
       "      <td>21</td>\n",
       "    </tr>\n",
       "    <tr>\n",
       "      <th>0</th>\n",
       "      <td>icmp</td>\n",
       "      <td>0</td>\n",
       "      <td>0</td>\n",
       "      <td>0</td>\n",
       "      <td>0</td>\n",
       "      <td>0</td>\n",
       "      <td>0</td>\n",
       "      <td>0</td>\n",
       "      <td>0</td>\n",
       "      <td>0</td>\n",
       "      <td>...</td>\n",
       "      <td>1.00</td>\n",
       "      <td>0.00</td>\n",
       "      <td>1.00</td>\n",
       "      <td>0.28</td>\n",
       "      <td>0.0</td>\n",
       "      <td>0</td>\n",
       "      <td>0.00</td>\n",
       "      <td>0.00</td>\n",
       "      <td>saint</td>\n",
       "      <td>15</td>\n",
       "    </tr>\n",
       "    <tr>\n",
       "      <th>0</th>\n",
       "      <td>tcp</td>\n",
       "      <td>15</td>\n",
       "      <td>0</td>\n",
       "      <td>0</td>\n",
       "      <td>0</td>\n",
       "      <td>0</td>\n",
       "      <td>0</td>\n",
       "      <td>0</td>\n",
       "      <td>0</td>\n",
       "      <td>0</td>\n",
       "      <td>...</td>\n",
       "      <td>0.31</td>\n",
       "      <td>0.17</td>\n",
       "      <td>0.03</td>\n",
       "      <td>0.02</td>\n",
       "      <td>0.0</td>\n",
       "      <td>0</td>\n",
       "      <td>0.83</td>\n",
       "      <td>0.71</td>\n",
       "      <td>mscan</td>\n",
       "      <td>11</td>\n",
       "    </tr>\n",
       "  </tbody>\n",
       "</table>\n",
       "<p>5 rows × 39 columns</p>\n",
       "</div>"
      ],
      "text/plain": [
       "  duration  src_bytes  dst_bytes  land  wrong_fragment  urgent  hot  \\\n",
       "0      tcp          0          0     0               0       0    0   \n",
       "0      tcp          0          0     0               0       0    0   \n",
       "0      tcp          0          0     0               0       0    0   \n",
       "0     icmp          0          0     0               0       0    0   \n",
       "0      tcp         15          0     0               0       0    0   \n",
       "\n",
       "   num_failed_logins  logged_in  num_compromised  ...  dst_host_srv_count  \\\n",
       "0                  0          0                0  ...                0.04   \n",
       "0                  0          0                0  ...                0.00   \n",
       "0                  0          0                0  ...                0.61   \n",
       "0                  0          0                0  ...                1.00   \n",
       "0                  0          0                0  ...                0.31   \n",
       "\n",
       "   dst_host_same_srv_rate  dst_host_diff_srv_rate  \\\n",
       "0                    0.06                    0.00   \n",
       "0                    0.06                    0.00   \n",
       "0                    0.04                    0.61   \n",
       "0                    0.00                    1.00   \n",
       "0                    0.17                    0.03   \n",
       "\n",
       "   dst_host_same_src_port_rate  dst_host_srv_diff_host_rate  \\\n",
       "0                         0.00                          0.0   \n",
       "0                         0.00                          0.0   \n",
       "0                         0.02                          0.0   \n",
       "0                         0.28                          0.0   \n",
       "0                         0.02                          0.0   \n",
       "\n",
       "   dst_host_serror_rate  dst_host_srv_serror_rate  dst_host_rerror_rate  \\\n",
       "0                     0                      1.00                  1.00   \n",
       "0                     0                      1.00                  1.00   \n",
       "0                     0                      0.00                  0.00   \n",
       "0                     0                      0.00                  0.00   \n",
       "0                     0                      0.83                  0.71   \n",
       "\n",
       "   dst_host_srv_rerror_rate  label  \n",
       "0                   neptune     21  \n",
       "0                   neptune     21  \n",
       "0                    normal     21  \n",
       "0                     saint     15  \n",
       "0                     mscan     11  \n",
       "\n",
       "[5 rows x 39 columns]"
      ]
     },
     "execution_count": 25,
     "metadata": {},
     "output_type": "execute_result"
    }
   ],
   "source": [
    "df.head()"
   ]
  },
  {
   "cell_type": "code",
   "execution_count": 44,
   "id": "82c7b3a5-a926-46e9-8aa0-736410ccfdc9",
   "metadata": {},
   "outputs": [
    {
     "name": "stdout",
     "output_type": "stream",
     "text": [
      "(22544, 39)\n",
      "(125973, 39)\n",
      "Index(['duration', 'src_bytes', 'dst_bytes', 'land', 'wrong_fragment',\n",
      "       'urgent', 'hot', 'num_failed_logins', 'logged_in', 'num_compromised',\n",
      "       'root_shell', 'su_attempted', 'num_root', 'num_file_creations',\n",
      "       'num_shells', 'num_access_files', 'num_outbound_cmds', 'is_host_login',\n",
      "       'is_guest_login', 'count', 'srv_count', 'serror_rate',\n",
      "       'srv_serror_rate', 'rerror_rate', 'srv_rerror_rate', 'same_srv_rate',\n",
      "       'diff_srv_rate', 'srv_diff_host_rate', 'dst_host_count',\n",
      "       'dst_host_srv_count', 'dst_host_same_srv_rate',\n",
      "       'dst_host_diff_srv_rate', 'dst_host_same_src_port_rate',\n",
      "       'dst_host_srv_diff_host_rate', 'dst_host_serror_rate',\n",
      "       'dst_host_srv_serror_rate', 'dst_host_rerror_rate',\n",
      "       'dst_host_srv_rerror_rate', 'label'],\n",
      "      dtype='object')\n",
      "Index(['duration', 'src_bytes', 'dst_bytes', 'land', 'wrong_fragment',\n",
      "       'urgent', 'hot', 'num_failed_logins', 'logged_in', 'num_compromised',\n",
      "       'root_shell', 'su_attempted', 'num_root', 'num_file_creations',\n",
      "       'num_shells', 'num_access_files', 'num_outbound_cmds', 'is_host_login',\n",
      "       'is_guest_login', 'count', 'srv_count', 'serror_rate',\n",
      "       'srv_serror_rate', 'rerror_rate', 'srv_rerror_rate', 'same_srv_rate',\n",
      "       'diff_srv_rate', 'srv_diff_host_rate', 'dst_host_count',\n",
      "       'dst_host_srv_count', 'dst_host_same_srv_rate',\n",
      "       'dst_host_diff_srv_rate', 'dst_host_same_src_port_rate',\n",
      "       'dst_host_srv_diff_host_rate', 'dst_host_serror_rate',\n",
      "       'dst_host_srv_serror_rate', 'dst_host_rerror_rate',\n",
      "       'dst_host_srv_rerror_rate', 'label'],\n",
      "      dtype='object')\n"
     ]
    }
   ],
   "source": [
    "# Identify unique 'service' values in training and test sets\n",
    "trainservice = set(df)\n",
    "testservice = set(df_test)\n",
    "\n",
    "# Find the differences\n",
    "difference = list(trainservice - testservice)\n",
    "\n",
    "# Prepend 'service_' to the differing values\n",
    "# string = 'service_'\n",
    "# difference = [string + x for x in difference]\n",
    "\n",
    "# Add missing columns to the test data and initialize them with 0\n",
    "for col in difference:\n",
    "    df_test[col] = 0\n",
    "\n",
    "print(df.shape)\n",
    "print(df_test.shape)\n",
    "print(df.columns)\n",
    "print(df_test.columns)"
   ]
  },
  {
   "cell_type": "code",
   "execution_count": 45,
   "id": "42e9ac05-6ceb-4398-9d3e-53d7089a5478",
   "metadata": {},
   "outputs": [
    {
     "name": "stdout",
     "output_type": "stream",
     "text": [
      "(22544, 39)\n",
      "(125973, 39)\n",
      "Index(['duration', 'src_bytes', 'dst_bytes', 'land', 'wrong_fragment',\n",
      "       'urgent', 'hot', 'num_failed_logins', 'logged_in', 'num_compromised',\n",
      "       'root_shell', 'su_attempted', 'num_root', 'num_file_creations',\n",
      "       'num_shells', 'num_access_files', 'num_outbound_cmds', 'is_host_login',\n",
      "       'is_guest_login', 'count', 'srv_count', 'serror_rate',\n",
      "       'srv_serror_rate', 'rerror_rate', 'srv_rerror_rate', 'same_srv_rate',\n",
      "       'diff_srv_rate', 'srv_diff_host_rate', 'dst_host_count',\n",
      "       'dst_host_srv_count', 'dst_host_same_srv_rate',\n",
      "       'dst_host_diff_srv_rate', 'dst_host_same_src_port_rate',\n",
      "       'dst_host_srv_diff_host_rate', 'dst_host_serror_rate',\n",
      "       'dst_host_srv_serror_rate', 'dst_host_rerror_rate',\n",
      "       'dst_host_srv_rerror_rate', 'label'],\n",
      "      dtype='object')\n",
      "Index(['duration', 'src_bytes', 'dst_bytes', 'land', 'wrong_fragment',\n",
      "       'urgent', 'hot', 'num_failed_logins', 'logged_in', 'num_compromised',\n",
      "       'root_shell', 'su_attempted', 'num_root', 'num_file_creations',\n",
      "       'num_shells', 'num_access_files', 'num_outbound_cmds', 'is_host_login',\n",
      "       'is_guest_login', 'count', 'srv_count', 'serror_rate',\n",
      "       'srv_serror_rate', 'rerror_rate', 'srv_rerror_rate', 'same_srv_rate',\n",
      "       'diff_srv_rate', 'srv_diff_host_rate', 'dst_host_count',\n",
      "       'dst_host_srv_count', 'dst_host_same_srv_rate',\n",
      "       'dst_host_diff_srv_rate', 'dst_host_same_src_port_rate',\n",
      "       'dst_host_srv_diff_host_rate', 'dst_host_serror_rate',\n",
      "       'dst_host_srv_serror_rate', 'dst_host_rerror_rate',\n",
      "       'dst_host_srv_rerror_rate', 'label'],\n",
      "      dtype='object')\n"
     ]
    }
   ],
   "source": [
    "# Identify unique 'service' values in training and test sets\n",
    "trainservice = set(df)\n",
    "testservice = set(df_test)\n",
    "\n",
    "# Find the differences\n",
    "difference = list(trainservice - testservice)\n",
    "\n",
    "# Prepend 'service_' to the differing values\n",
    "# string = 'service_'\n",
    "# difference = [string + x for x in difference]\n",
    "\n",
    "# Add missing columns to the test data and initialize them with 0\n",
    "for col in difference:\n",
    "    df_test[col] = 0\n",
    "\n",
    "\n",
    "print(df.shape)\n",
    "print(df_test.shape)\n",
    "print(df.columns)\n",
    "print(df_test.columns)"
   ]
  },
  {
   "cell_type": "code",
   "execution_count": 47,
   "id": "7ca25b20-770a-4285-9687-bd14378910ee",
   "metadata": {},
   "outputs": [],
   "source": [
    "labeldf=df['label']\n",
    "labeldf_test=df_test['label']"
   ]
  },
  {
   "cell_type": "code",
   "execution_count": 48,
   "id": "e07e28e6-0af5-4e5a-9e4f-eac5e5fbd414",
   "metadata": {},
   "outputs": [],
   "source": [
    "newlabeldf = labeldf.replace({ 'normal' : 0, 'neptune' : 1 ,'back': 1, 'land': 1, 'pod': 1, 'smurf': 1, 'teardrop': 1,'mailbomb': 1, 'apache2': 1, 'processtable': 1, 'udpstorm': 1, 'worm': 1,'ipsweep' : 2,'nmap' : 2,'portsweep' : 2,'satan' : 2,'mscan' : 2,'saint' : 2,'ftp_write': 3,'guess_passwd': 3,'imap': 3,'multihop': 3,'phf': 3,'spy': 3,'warezclient': 3,'warezmaster': 3,'sendmail': 3,'named': 3,'snmpgetattack': 3,'snmpguess': 3,'xlock': 3,'xsnoop': 3,'httptunnel': 3,'buffer_overflow': 4,'loadmodule': 4,'perl': 4,'rootkit': 4,'ps': 4,'sqlattack': 4,'xterm': 4})\n",
    "newlabeldf_test = labeldf_test.replace({ 'normal' : 0, 'neptune' : 1 ,'back': 1, 'land': 1, 'pod': 1, 'smurf': 1, 'teardrop': 1,'mailbomb': 1, 'apache2': 1, 'processtable': 1, 'udpstorm': 1, 'worm': 1,'ipsweep' : 2,'nmap' : 2,'portsweep' : 2,'satan' : 2,'mscan' : 2,'saint' : 2,'ftp_write': 3,'guess_passwd': 3,'imap': 3,'multihop': 3,'phf': 3,'spy': 3,'warezclient': 3,'warezmaster': 3,'sendmail': 3,'named': 3,'snmpgetattack': 3,'snmpguess': 3,'xlock': 3,'xsnoop': 3,'httptunnel': 3,'buffer_overflow': 4,'loadmodule': 4,'perl': 4,'rootkit': 4,'ps': 4,'sqlattack': 4,'xterm': 4})\n"
   ]
  },
  {
   "cell_type": "code",
   "execution_count": 49,
   "id": "2fed5636-76a1-4387-b5a8-8b3c32182cc1",
   "metadata": {},
   "outputs": [],
   "source": [
    "# put the new label column back\n",
    "df['label'] = newlabeldf\n",
    "df_test['label'] = newlabeldf_test"
   ]
  },
  {
   "cell_type": "code",
   "execution_count": 50,
   "id": "f9d3cdac-eb5c-4665-a2e0-f629bb7a4a45",
   "metadata": {},
   "outputs": [
    {
     "name": "stdout",
     "output_type": "stream",
     "text": [
      "Train:\n",
      "Dimensions of filtered data: (482, 39)\n",
      "\n",
      "Test:\n",
      "Dimensions of filtered test data: (125973, 39)\n"
     ]
    }
   ],
   "source": [
    "# Define labels to be dropped\n",
    "to_drop_labels = [0, 1, 2, 3, 4]\n",
    "\n",
    "# Filter out rows with labels to be dropped\n",
    "filtered_df = df[df['label'].isin(to_drop_labels)]\n",
    "filtered_df_test = df_test[df_test['label'].isin(to_drop_labels)]\n",
    "\n",
    "print('Train:')\n",
    "print('Dimensions of filtered data:', filtered_df.shape)\n",
    "print()\n",
    "print('Test:')\n",
    "print('Dimensions of filtered test data:', filtered_df_test.shape)"
   ]
  },
  {
   "cell_type": "code",
   "execution_count": 52,
   "id": "9ba417f3-9370-4757-a9cd-cf46c474d35a",
   "metadata": {},
   "outputs": [],
   "source": [
    "X = filtered_df.drop('label', axis=1)\n",
    "Y = filtered_df.label\n",
    "\n",
    "X_test = filtered_df_test.drop('label', axis=1)\n",
    "Y_test = filtered_df_test.label\n"
   ]
  },
  {
   "cell_type": "code",
   "execution_count": 53,
   "id": "c074accd-8532-4026-a9a6-189cc3c856d8",
   "metadata": {},
   "outputs": [],
   "source": [
    "colNames=list(X)\n",
    "colNames_test=list(X_test)"
   ]
  },
  {
   "cell_type": "code",
   "execution_count": 57,
   "id": "2ef474b7-c081-4e43-be27-413d378c4986",
   "metadata": {},
   "outputs": [
    {
     "name": "stderr",
     "output_type": "stream",
     "text": [
      "C:\\Users\\DHANUSH\\AppData\\Local\\Programs\\Python\\Python311\\Lib\\site-packages\\sklearn\\utils\\extmath.py:1050: RuntimeWarning: invalid value encountered in divide\n",
      "  updated_mean = (last_sum + new_sum) / updated_sample_count\n",
      "C:\\Users\\DHANUSH\\AppData\\Local\\Programs\\Python\\Python311\\Lib\\site-packages\\sklearn\\utils\\extmath.py:1055: RuntimeWarning: invalid value encountered in divide\n",
      "  T = new_sum / new_sample_count\n",
      "C:\\Users\\DHANUSH\\AppData\\Local\\Programs\\Python\\Python311\\Lib\\site-packages\\sklearn\\utils\\extmath.py:1075: RuntimeWarning: invalid value encountered in divide\n",
      "  new_unnormalized_variance -= correction**2 / new_sample_count\n"
     ]
    }
   ],
   "source": [
    "# Convert 'duration', 'dst_host_serror_rate', and 'dst_host_srv_rerror_rate' to numeric\n",
    "X['duration'] = pd.to_numeric(X['duration'], errors='coerce')\n",
    "X['dst_host_serror_rate'] = pd.to_numeric(X['dst_host_serror_rate'], errors='coerce')\n",
    "X['dst_host_srv_rerror_rate'] = pd.to_numeric(X['dst_host_srv_rerror_rate'], errors='coerce')\n",
    "\n",
    "# Similarly, apply the same conversion to the test data\n",
    "X_test['duration'] = pd.to_numeric(X_test['duration'], errors='coerce')\n",
    "X_test['dst_host_serror_rate'] = pd.to_numeric(X_test['dst_host_serror_rate'], errors='coerce')\n",
    "X_test['dst_host_srv_rerror_rate'] = pd.to_numeric(X_test['dst_host_srv_rerror_rate'], errors='coerce')\n",
    "\n",
    "# Now, proceed with the scaling step\n",
    "scaler1 = StandardScaler().fit(X)\n",
    "X_scaled = scaler1.transform(X)\n",
    "X_test_scaled = scaler1.transform(X_test)\n"
   ]
  },
  {
   "cell_type": "code",
   "execution_count": 56,
   "id": "f8636819-4961-40ee-9b3a-532ee8e46550",
   "metadata": {},
   "outputs": [
    {
     "name": "stdout",
     "output_type": "stream",
     "text": [
      "duration                        object\n",
      "src_bytes                        int64\n",
      "dst_bytes                        int64\n",
      "land                             int64\n",
      "wrong_fragment                   int64\n",
      "urgent                           int64\n",
      "hot                              int64\n",
      "num_failed_logins                int64\n",
      "logged_in                        int64\n",
      "num_compromised                  int64\n",
      "root_shell                       int64\n",
      "su_attempted                     int64\n",
      "num_root                         int64\n",
      "num_file_creations               int64\n",
      "num_shells                       int64\n",
      "num_access_files                 int64\n",
      "num_outbound_cmds                int64\n",
      "is_host_login                    int64\n",
      "is_guest_login                   int64\n",
      "count                            int64\n",
      "srv_count                      float64\n",
      "serror_rate                    float64\n",
      "srv_serror_rate                float64\n",
      "rerror_rate                    float64\n",
      "srv_rerror_rate                float64\n",
      "same_srv_rate                  float64\n",
      "diff_srv_rate                  float64\n",
      "srv_diff_host_rate               int64\n",
      "dst_host_count                   int64\n",
      "dst_host_srv_count             float64\n",
      "dst_host_same_srv_rate         float64\n",
      "dst_host_diff_srv_rate         float64\n",
      "dst_host_same_src_port_rate    float64\n",
      "dst_host_srv_diff_host_rate    float64\n",
      "dst_host_serror_rate            object\n",
      "dst_host_srv_serror_rate       float64\n",
      "dst_host_rerror_rate           float64\n",
      "dst_host_srv_rerror_rate        object\n",
      "dtype: object\n"
     ]
    }
   ],
   "source": [
    "print(X.dtypes)"
   ]
  },
  {
   "cell_type": "code",
   "execution_count": 58,
   "id": "42b3925e-fb7e-4855-907d-9fc1afc9bfcc",
   "metadata": {},
   "outputs": [
    {
     "name": "stderr",
     "output_type": "stream",
     "text": [
      "C:\\Users\\DHANUSH\\AppData\\Local\\Programs\\Python\\Python311\\Lib\\site-packages\\sklearn\\impute\\_base.py:558: UserWarning: Skipping features without any observed values: ['duration' 'dst_host_srv_rerror_rate']. At least one non-missing value is needed for imputation with strategy='mean'.\n",
      "  warnings.warn(\n",
      "C:\\Users\\DHANUSH\\AppData\\Local\\Programs\\Python\\Python311\\Lib\\site-packages\\sklearn\\impute\\_base.py:558: UserWarning: Skipping features without any observed values: ['duration' 'dst_host_srv_rerror_rate']. At least one non-missing value is needed for imputation with strategy='mean'.\n",
      "  warnings.warn(\n"
     ]
    }
   ],
   "source": [
    "from sklearn.impute import SimpleImputer\n",
    "\n",
    "# Initialize the imputer\n",
    "imputer = SimpleImputer(strategy='mean')\n",
    "\n",
    "# Fit the imputer to the training data and transform it\n",
    "X_imputed = imputer.fit_transform(X)\n",
    "\n",
    "# Apply the same imputer to the test data\n",
    "X_test_imputed = imputer.transform(X_test)\n",
    "\n",
    "# Now, proceed with the scaling step\n",
    "scaler1 = StandardScaler().fit(X_imputed)\n",
    "X_scaled = scaler1.transform(X_imputed)\n",
    "X_test_scaled = scaler1.transform(X_test_imputed)\n"
   ]
  },
  {
   "cell_type": "code",
   "execution_count": 59,
   "id": "164947b8-e70c-4a71-91b3-f9d3a4aa0bc1",
   "metadata": {},
   "outputs": [
    {
     "name": "stdout",
     "output_type": "stream",
     "text": [
      "duration                                NaN\n",
      "src_bytes                      47553.753961\n",
      "dst_bytes                          0.000000\n",
      "land                               0.436394\n",
      "wrong_fragment                     0.243558\n",
      "urgent                             1.275460\n",
      "hot                                0.213218\n",
      "num_failed_logins                  0.402886\n",
      "logged_in                          8.534452\n",
      "num_compromised                    0.249221\n",
      "root_shell                         0.045549\n",
      "su_attempted                      10.710468\n",
      "num_root                           0.661119\n",
      "num_file_creations                 0.210572\n",
      "num_shells                         0.277335\n",
      "num_access_files                   0.000000\n",
      "num_outbound_cmds                  0.090813\n",
      "is_host_login                      0.064349\n",
      "is_guest_login                    33.381658\n",
      "count                             11.311300\n",
      "srv_count                          0.045549\n",
      "serror_rate                        0.045549\n",
      "srv_serror_rate                    0.260303\n",
      "rerror_rate                        0.259679\n",
      "srv_rerror_rate                    0.318890\n",
      "same_srv_rate                      0.262025\n",
      "diff_srv_rate                      0.144893\n",
      "srv_diff_host_rate               100.063488\n",
      "dst_host_count                    94.509948\n",
      "dst_host_srv_count                 0.430046\n",
      "dst_host_same_srv_rate             0.274592\n",
      "dst_host_diff_srv_rate             0.369883\n",
      "dst_host_same_src_port_rate        0.098355\n",
      "dst_host_srv_diff_host_rate        0.057211\n",
      "dst_host_serror_rate               0.045676\n",
      "dst_host_srv_serror_rate           0.226607\n",
      "dst_host_rerror_rate               0.273037\n",
      "dst_host_srv_rerror_rate                NaN\n",
      "dtype: float64\n"
     ]
    }
   ],
   "source": [
    "print(X.std(axis=0))"
   ]
  },
  {
   "cell_type": "code",
   "execution_count": 61,
   "id": "a19cefb8-1bc1-4cc8-8b6b-2fd8f48b51cf",
   "metadata": {},
   "outputs": [
    {
     "name": "stderr",
     "output_type": "stream",
     "text": [
      "C:\\Users\\DHANUSH\\AppData\\Local\\Programs\\Python\\Python311\\Lib\\site-packages\\sklearn\\impute\\_base.py:558: UserWarning: Skipping features without any observed values: ['duration' 'dst_host_srv_rerror_rate']. At least one non-missing value is needed for imputation with strategy='mean'.\n",
      "  warnings.warn(\n"
     ]
    }
   ],
   "source": [
    "from sklearn.impute import SimpleImputer\n",
    "\n",
    "# Create an imputer object that replaces NaN values with the mean value of the column\n",
    "imputer = SimpleImputer(missing_values=np.nan, strategy='mean')\n",
    "\n",
    "# Fit the imputer on your data\n",
    "imputer.fit(X)\n",
    "\n",
    "# Transform the data\n",
    "X = imputer.transform(X)\n",
    "\n",
    "# Do the same for the test set\n",
    "imputer.fit(X_test)\n",
    "X_test = imputer.transform(X_test)\n"
   ]
  },
  {
   "cell_type": "code",
   "execution_count": 62,
   "id": "42756e86-19c7-46b0-8ec8-c059f85a8f2c",
   "metadata": {},
   "outputs": [
    {
     "data": {
      "text/plain": [
       "['duration',\n",
       " 'wrong_fragment',\n",
       " 'hot',\n",
       " 'num_failed_logins',\n",
       " 'logged_in',\n",
       " 'root_shell',\n",
       " 'is_host_login',\n",
       " 'is_guest_login',\n",
       " 'srv_serror_rate',\n",
       " 'rerror_rate',\n",
       " 'srv_rerror_rate',\n",
       " 'diff_srv_rate',\n",
       " 'srv_diff_host_rate',\n",
       " 'dst_host_count',\n",
       " 'dst_host_srv_count',\n",
       " 'dst_host_same_srv_rate',\n",
       " 'dst_host_diff_srv_rate',\n",
       " 'dst_host_same_src_port_rate',\n",
       " 'dst_host_serror_rate',\n",
       " 'dst_host_srv_serror_rate']"
      ]
     },
     "execution_count": 62,
     "metadata": {},
     "output_type": "execute_result"
    }
   ],
   "source": [
    "from sklearn.feature_selection import RFE\n",
    "from sklearn.ensemble import RandomForestClassifier\n",
    "\n",
    "\n",
    "clf = RandomForestClassifier(n_estimators=10,n_jobs=2)\n",
    "rfe = RFE(estimator=clf, n_features_to_select=20, step=1)\n",
    "\n",
    "rfe.fit(X, Y.astype(int))\n",
    "X_new=rfe.transform(X)\n",
    "true=rfe.support_\n",
    "colindex2=[i for i, x in enumerate(true) if x]\n",
    "colname2=list(colNames[i] for i in colindex2)\n",
    "colname2"
   ]
  },
  {
   "cell_type": "code",
   "execution_count": 63,
   "id": "5d7a0fda-4a50-4bc9-900f-48e0a6d39dcd",
   "metadata": {},
   "outputs": [
    {
     "data": {
      "text/plain": [
       "['duration',\n",
       " 'logged_in',\n",
       " 'root_shell',\n",
       " 'su_attempted',\n",
       " 'num_root',\n",
       " 'num_file_creations',\n",
       " 'is_host_login',\n",
       " 'is_guest_login',\n",
       " 'serror_rate',\n",
       " 'srv_serror_rate',\n",
       " 'rerror_rate',\n",
       " 'same_srv_rate',\n",
       " 'diff_srv_rate',\n",
       " 'srv_diff_host_rate',\n",
       " 'dst_host_count',\n",
       " 'dst_host_srv_count',\n",
       " 'dst_host_same_srv_rate',\n",
       " 'dst_host_srv_diff_host_rate',\n",
       " 'dst_host_serror_rate',\n",
       " 'dst_host_srv_serror_rate']"
      ]
     },
     "execution_count": 63,
     "metadata": {},
     "output_type": "execute_result"
    }
   ],
   "source": [
    "from sklearn.feature_selection import SelectKBest, mutual_info_regression\n",
    "\n",
    "# Create a SelectKBest instance with mutual information\n",
    "selector_mi = SelectKBest(mutual_info_regression, k=20)  # Select the top 20 features based on mutual information\n",
    "\n",
    "# Fit and transform the data for feature selection based on mutual information\n",
    "X_new_mi = selector_mi.fit_transform(X, Y)\n",
    "colindex5 = selector_mi.get_support(indices=True)\n",
    "colname5 = [colNames[i] for i in colindex5]\n",
    "colname5"
   ]
  },
  {
   "cell_type": "code",
   "execution_count": 65,
   "id": "323af9bf-35e4-4114-bbaf-715c87d0a2f2",
   "metadata": {},
   "outputs": [
    {
     "name": "stdout",
     "output_type": "stream",
     "text": [
      "['land', 'urgent', 'logged_in', 'num_compromised', 'su_attempted', 'num_root', 'num_file_creations', 'num_access_files', 'num_outbound_cmds', 'srv_serror_rate', 'rerror_rate', 'srv_rerror_rate', 'same_srv_rate', 'dst_host_count', 'dst_host_srv_count', 'dst_host_same_srv_rate', 'dst_host_diff_srv_rate', 'dst_host_same_src_port_rate', 'dst_host_serror_rate', 'dst_host_srv_serror_rate']\n"
     ]
    }
   ],
   "source": [
    "from sklearn.linear_model import Lasso\n",
    "from sklearn.feature_selection import SelectFromModel\n",
    "\n",
    "# Create a Lasso model for feature selection\n",
    "lasso = Lasso(alpha=0.001)  # You can adjust the alpha parameter for regularization strength\n",
    "\n",
    "# Use SelectFromModel to select features based on Lasso coefficients\n",
    "selector_lasso = SelectFromModel(lasso, max_features=20)  # Select only 20 features\n",
    "\n",
    "# Fit and transform the data for DoS\n",
    "X_new = selector_lasso.fit_transform(X, Y)\n",
    "colindex4 = selector_lasso.get_support(indices=True)\n",
    "colname4 = [colNames[i] for i in colindex4]\n",
    "\n",
    "# Print the selected column names\n",
    "print(colname4)\n"
   ]
  },
  {
   "cell_type": "code",
   "execution_count": 67,
   "id": "f47e8edd-5c30-4783-81d7-05906989ca67",
   "metadata": {},
   "outputs": [
    {
     "name": "stdout",
     "output_type": "stream",
     "text": [
      "DataFrames names: ['___', 'df', 'df_test', 'df_categorical_values', 'testdf_categorical_values', '_7', 'df_categorical_values_enc', 'testdf_categorical_values_enc', 'df_cat_data', 'testdf_cat_data', '_25', 'filtered_df', 'filtered_df_test', 'df1', 'df2']\n"
     ]
    }
   ],
   "source": [
    "import pandas as pd\n",
    "\n",
    "# Create some example DataFrames\n",
    "df1 = pd.DataFrame({'A': [1, 2, 3], 'B': [4, 5, 6]})\n",
    "df2 = pd.DataFrame({'X': ['a', 'b', 'c'], 'Y': ['d', 'e', 'f']})\n",
    "\n",
    "# Get a dictionary of all global variables\n",
    "global_vars = globals()\n",
    "\n",
    "# Filter out only the variables that are DataFrames\n",
    "dataframes_names = [name for name, var in global_vars.items() if isinstance(var, pd.DataFrame)]\n",
    "\n",
    "# Print the names of the DataFrames\n",
    "print(\"DataFrames names:\", dataframes_names)\n"
   ]
  },
  {
   "cell_type": "code",
   "execution_count": 77,
   "id": "05ac01cf-cee4-4e0d-bc64-4ba36fc303c3",
   "metadata": {},
   "outputs": [],
   "source": [
    "from collections import Counter\n",
    "\n",
    "def common_in_three_or_more(lists):\n",
    "    # Count occurrences of each number across all lists\n",
    "    count = Counter()\n",
    "    for lst in lists:\n",
    "        count.update(set(lst))\n",
    "\n",
    "    # Select numbers that are common in at least three lists\n",
    "    common_numbers = [num for num, freq in count.items() if freq >= 3]\n",
    "\n",
    "    return common_numbers\n",
    "\n"
   ]
  },
  {
   "cell_type": "code",
   "execution_count": 78,
   "id": "4aacbf6a-254f-4780-9e88-ac2ded743a3a",
   "metadata": {},
   "outputs": [
    {
     "name": "stdout",
     "output_type": "stream",
     "text": [
      "[]\n"
     ]
    }
   ],
   "source": [
    "l=[]\n",
    "for i in result:\n",
    "   l.append(colNames.index(i))\n",
    "\n",
    "print(l)"
   ]
  },
  {
   "cell_type": "code",
   "execution_count": 79,
   "id": "96074f35-9448-4aa9-94c8-55bd503a6a37",
   "metadata": {},
   "outputs": [
    {
     "ename": "ValueError",
     "evalue": "need at least one array to concatenate",
     "output_type": "error",
     "traceback": [
      "\u001b[1;31m---------------------------------------------------------------------------\u001b[0m",
      "\u001b[1;31mValueError\u001b[0m                                Traceback (most recent call last)",
      "Cell \u001b[1;32mIn[79], line 14\u001b[0m\n\u001b[0;32m     11\u001b[0m colname\u001b[38;5;241m=\u001b[39m result\n\u001b[0;32m     13\u001b[0m selected_features \u001b[38;5;241m=\u001b[39m [X[:, index] \u001b[38;5;28;01mfor\u001b[39;00m index \u001b[38;5;129;01min\u001b[39;00m colindex]\n\u001b[1;32m---> 14\u001b[0m X_rfe \u001b[38;5;241m=\u001b[39m \u001b[43mnp\u001b[49m\u001b[38;5;241;43m.\u001b[39;49m\u001b[43mcolumn_stack\u001b[49m\u001b[43m(\u001b[49m\u001b[43mselected_features\u001b[49m\u001b[43m)\u001b[49m\n\u001b[0;32m     16\u001b[0m \u001b[38;5;28mprint\u001b[39m(colindex)\n",
      "File \u001b[1;32m<__array_function__ internals>:200\u001b[0m, in \u001b[0;36mcolumn_stack\u001b[1;34m(*args, **kwargs)\u001b[0m\n",
      "File \u001b[1;32m~\\AppData\\Local\\Programs\\Python\\Python311\\Lib\\site-packages\\numpy\\lib\\shape_base.py:656\u001b[0m, in \u001b[0;36mcolumn_stack\u001b[1;34m(tup)\u001b[0m\n\u001b[0;32m    654\u001b[0m         arr \u001b[38;5;241m=\u001b[39m array(arr, copy\u001b[38;5;241m=\u001b[39m\u001b[38;5;28;01mFalse\u001b[39;00m, subok\u001b[38;5;241m=\u001b[39m\u001b[38;5;28;01mTrue\u001b[39;00m, ndmin\u001b[38;5;241m=\u001b[39m\u001b[38;5;241m2\u001b[39m)\u001b[38;5;241m.\u001b[39mT\n\u001b[0;32m    655\u001b[0m     arrays\u001b[38;5;241m.\u001b[39mappend(arr)\n\u001b[1;32m--> 656\u001b[0m \u001b[38;5;28;01mreturn\u001b[39;00m \u001b[43m_nx\u001b[49m\u001b[38;5;241;43m.\u001b[39;49m\u001b[43mconcatenate\u001b[49m\u001b[43m(\u001b[49m\u001b[43marrays\u001b[49m\u001b[43m,\u001b[49m\u001b[43m \u001b[49m\u001b[38;5;241;43m1\u001b[39;49m\u001b[43m)\u001b[49m\n",
      "File \u001b[1;32m<__array_function__ internals>:200\u001b[0m, in \u001b[0;36mconcatenate\u001b[1;34m(*args, **kwargs)\u001b[0m\n",
      "\u001b[1;31mValueError\u001b[0m: need at least one array to concatenate"
     ]
    }
   ],
   "source": [
    "# from sklearn.feature_selection import RFE\n",
    "from sklearn.ensemble import RandomForestClassifier\n",
    "\n",
    "\n",
    "# clf = RandomForestClassifier(n_estimators=10,n_jobs=2)\n",
    "# rfe = RFE(estimator=clf, n_features_to_select=12, step=1)\n",
    "# rfe.fit(X, Y.astype(int))\n",
    "# X_rfe=rfe.transform(X)\n",
    "\n",
    "colindex=l\n",
    "colname= result\n",
    "\n",
    "selected_features = [X[:, index] for index in colindex]\n",
    "X_rfe = np.column_stack(selected_features)\n",
    "\n",
    "print(colindex)"
   ]
  },
  {
   "cell_type": "code",
   "execution_count": 86,
   "id": "ca35550b-17db-47fd-b6a3-7f6d0410a66f",
   "metadata": {},
   "outputs": [
    {
     "name": "stdout",
     "output_type": "stream",
     "text": [
      "colindex is empty or contains invalid indices.\n"
     ]
    }
   ],
   "source": [
    "# Ensure colindex is a list of integers\n",
    "colindex = [31, 24, 28, 32, 23, 25, 21, 19, 30, 34, 33, 35, 22, 35, 27, 8, 29, 36, 26, 20]\n",
    "\n",
    "# Check if colindex is not empty and all indices are valid\n",
    "if colindex and all(i >= 0 and i < X.shape[1] for i in colindex):\n",
    "    selected_features = [X[:, index] for index in colindex]\n",
    "    X_rfe = np.column_stack(selected_features)\n",
    "    print(colindex)\n",
    "else:\n",
    "    print(\"colindex is empty or contains invalid indices.\")\n"
   ]
  },
  {
   "cell_type": "code",
   "execution_count": 87,
   "id": "cc8473ba-d32a-436f-9ac9-ac68e68fea5a",
   "metadata": {},
   "outputs": [
    {
     "name": "stdout",
     "output_type": "stream",
     "text": [
      "Shape of X: (482, 36)\n",
      "Max index in colindex: 36\n"
     ]
    }
   ],
   "source": [
    "print(\"Shape of X:\", X.shape)\n",
    "print(\"Max index in colindex:\", max(colindex))\n"
   ]
  },
  {
   "cell_type": "code",
   "execution_count": 89,
   "id": "1e7b48bb-fb71-45db-9272-aef5975872ec",
   "metadata": {},
   "outputs": [
    {
     "ename": "ValueError",
     "evalue": "need at least one array to concatenate",
     "output_type": "error",
     "traceback": [
      "\u001b[1;31m---------------------------------------------------------------------------\u001b[0m",
      "\u001b[1;31mValueError\u001b[0m                                Traceback (most recent call last)",
      "Cell \u001b[1;32mIn[89], line 1\u001b[0m\n\u001b[1;32m----> 1\u001b[0m X_rfe \u001b[38;5;241m=\u001b[39m \u001b[43mnp\u001b[49m\u001b[38;5;241;43m.\u001b[39;49m\u001b[43mcolumn_stack\u001b[49m\u001b[43m(\u001b[49m\u001b[43mselected_features\u001b[49m\u001b[43m)\u001b[49m\n\u001b[0;32m      2\u001b[0m \u001b[38;5;28mint\u001b[39m(X_rfe\u001b[38;5;241m.\u001b[39mshape)\n\u001b[0;32m      5\u001b[0m clf_rf\u001b[38;5;241m=\u001b[39mRandomForestClassifier(n_estimators\u001b[38;5;241m=\u001b[39m\u001b[38;5;241m10\u001b[39m,n_jobs\u001b[38;5;241m=\u001b[39m\u001b[38;5;241m1\u001b[39m)\n",
      "File \u001b[1;32m<__array_function__ internals>:200\u001b[0m, in \u001b[0;36mcolumn_stack\u001b[1;34m(*args, **kwargs)\u001b[0m\n",
      "File \u001b[1;32m~\\AppData\\Local\\Programs\\Python\\Python311\\Lib\\site-packages\\numpy\\lib\\shape_base.py:656\u001b[0m, in \u001b[0;36mcolumn_stack\u001b[1;34m(tup)\u001b[0m\n\u001b[0;32m    654\u001b[0m         arr \u001b[38;5;241m=\u001b[39m array(arr, copy\u001b[38;5;241m=\u001b[39m\u001b[38;5;28;01mFalse\u001b[39;00m, subok\u001b[38;5;241m=\u001b[39m\u001b[38;5;28;01mTrue\u001b[39;00m, ndmin\u001b[38;5;241m=\u001b[39m\u001b[38;5;241m2\u001b[39m)\u001b[38;5;241m.\u001b[39mT\n\u001b[0;32m    655\u001b[0m     arrays\u001b[38;5;241m.\u001b[39mappend(arr)\n\u001b[1;32m--> 656\u001b[0m \u001b[38;5;28;01mreturn\u001b[39;00m \u001b[43m_nx\u001b[49m\u001b[38;5;241;43m.\u001b[39;49m\u001b[43mconcatenate\u001b[49m\u001b[43m(\u001b[49m\u001b[43marrays\u001b[49m\u001b[43m,\u001b[49m\u001b[43m \u001b[49m\u001b[38;5;241;43m1\u001b[39;49m\u001b[43m)\u001b[49m\n",
      "File \u001b[1;32m<__array_function__ internals>:200\u001b[0m, in \u001b[0;36mconcatenate\u001b[1;34m(*args, **kwargs)\u001b[0m\n",
      "\u001b[1;31mValueError\u001b[0m: need at least one array to concatenate"
     ]
    }
   ],
   "source": [
    "X_rfe = np.column_stack(selected_features)\n",
    "int(X_rfe.shape)\n",
    "\n",
    "\n",
    "clf_rf=RandomForestClassifier(n_estimators=10,n_jobs=1)\n",
    "clf_rf.fit(X_rfe, Y.astype(int))\n",
    "\n",
    "\n",
    "\n",
    "X_test2=X_test[:,colindex]"
   ]
  },
  {
   "cell_type": "code",
   "execution_count": 90,
   "id": "4c15159e-26e4-42b8-bf3f-6964d9be9168",
   "metadata": {},
   "outputs": [
    {
     "ename": "NameError",
     "evalue": "name 'clf_rf' is not defined",
     "output_type": "error",
     "traceback": [
      "\u001b[1;31m---------------------------------------------------------------------------\u001b[0m",
      "\u001b[1;31mNameError\u001b[0m                                 Traceback (most recent call last)",
      "Cell \u001b[1;32mIn[90], line 1\u001b[0m\n\u001b[1;32m----> 1\u001b[0m Y_pred2\u001b[38;5;241m=\u001b[39m\u001b[43mclf_rf\u001b[49m\u001b[38;5;241m.\u001b[39mpredict(X_test2)\n\u001b[0;32m      2\u001b[0m \u001b[38;5;66;03m# Create confusion matrix\u001b[39;00m\n\u001b[0;32m      3\u001b[0m pd\u001b[38;5;241m.\u001b[39mcrosstab(Y_test, Y_pred2, rownames\u001b[38;5;241m=\u001b[39m[\u001b[38;5;124m'\u001b[39m\u001b[38;5;124mActual attacks\u001b[39m\u001b[38;5;124m'\u001b[39m], colnames\u001b[38;5;241m=\u001b[39m[\u001b[38;5;124m'\u001b[39m\u001b[38;5;124mPredicted attacks\u001b[39m\u001b[38;5;124m'\u001b[39m])\n",
      "\u001b[1;31mNameError\u001b[0m: name 'clf_rf' is not defined"
     ]
    }
   ],
   "source": [
    "Y_pred2=clf_rf.predict(X_test2)\n",
    "# Create confusion matrix\n",
    "pd.crosstab(Y_test, Y_pred2, rownames=['Actual attacks'], colnames=['Predicted attacks'])"
   ]
  },
  {
   "cell_type": "code",
   "execution_count": 91,
   "id": "d832b3e7-9258-4b33-ba78-40610e326149",
   "metadata": {},
   "outputs": [
    {
     "ename": "NameError",
     "evalue": "name 'clf_rf' is not defined",
     "output_type": "error",
     "traceback": [
      "\u001b[1;31m---------------------------------------------------------------------------\u001b[0m",
      "\u001b[1;31mNameError\u001b[0m                                 Traceback (most recent call last)",
      "Cell \u001b[1;32mIn[91], line 10\u001b[0m\n\u001b[0;32m      7\u001b[0m \u001b[38;5;28;01mfrom\u001b[39;00m \u001b[38;5;21;01msklearn\u001b[39;00m\u001b[38;5;21;01m.\u001b[39;00m\u001b[38;5;21;01mmetrics\u001b[39;00m \u001b[38;5;28;01mimport\u001b[39;00m precision_score, recall_score, f1_score\n\u001b[0;32m      9\u001b[0m \u001b[38;5;66;03m# Compute metrics with appropriate averaging\u001b[39;00m\n\u001b[1;32m---> 10\u001b[0m accuracy \u001b[38;5;241m=\u001b[39m cross_val_score(\u001b[43mclf_rf\u001b[49m, X_test2, Y_test, cv\u001b[38;5;241m=\u001b[39m\u001b[38;5;241m10\u001b[39m, scoring\u001b[38;5;241m=\u001b[39m\u001b[38;5;124m'\u001b[39m\u001b[38;5;124maccuracy\u001b[39m\u001b[38;5;124m'\u001b[39m)\n\u001b[0;32m     11\u001b[0m \u001b[38;5;28mprint\u001b[39m(\u001b[38;5;124m\"\u001b[39m\u001b[38;5;124mAccuracy: \u001b[39m\u001b[38;5;132;01m%0.5f\u001b[39;00m\u001b[38;5;124m (+/- \u001b[39m\u001b[38;5;132;01m%0.5f\u001b[39;00m\u001b[38;5;124m)\u001b[39m\u001b[38;5;124m\"\u001b[39m \u001b[38;5;241m%\u001b[39m (accuracy\u001b[38;5;241m.\u001b[39mmean(), accuracy\u001b[38;5;241m.\u001b[39mstd() \u001b[38;5;241m*\u001b[39m \u001b[38;5;241m2\u001b[39m))\n\u001b[0;32m     13\u001b[0m precision \u001b[38;5;241m=\u001b[39m cross_val_score(clf_rf, X_test2, Y_test, cv\u001b[38;5;241m=\u001b[39m\u001b[38;5;241m10\u001b[39m, scoring\u001b[38;5;241m=\u001b[39m\u001b[38;5;124m'\u001b[39m\u001b[38;5;124mprecision_macro\u001b[39m\u001b[38;5;124m'\u001b[39m)\n",
      "\u001b[1;31mNameError\u001b[0m: name 'clf_rf' is not defined"
     ]
    }
   ],
   "source": [
    "from sklearn.model_selection import cross_val_score\n",
    "from sklearn import metrics\n",
    "\n",
    "\n",
    "\n",
    "\n",
    "from sklearn.metrics import precision_score, recall_score, f1_score\n",
    "\n",
    "# Compute metrics with appropriate averaging\n",
    "accuracy = cross_val_score(clf_rf, X_test2, Y_test, cv=10, scoring='accuracy')\n",
    "print(\"Accuracy: %0.5f (+/- %0.5f)\" % (accuracy.mean(), accuracy.std() * 2))\n",
    "\n",
    "precision = cross_val_score(clf_rf, X_test2, Y_test, cv=10, scoring='precision_macro')\n",
    "print(\"Precision: %0.5f (+/- %0.5f)\" % (precision.mean(), precision.std() * 2))\n",
    "\n",
    "recall = cross_val_score(clf_rf, X_test2, Y_test, cv=10, scoring='recall_macro')\n",
    "print(\"Recall: %0.5f (+/- %0.5f)\" % (recall.mean(), recall.std() * 2))\n",
    "\n",
    "f1 = cross_val_score(clf_rf, X_test2, Y_test, cv=10, scoring='f1_macro')\n",
    "print(\"F-measure: %0.5f (+/- %0.5f)\" % (f1.mean(), f1.std() * 2))\n"
   ]
  },
  {
   "cell_type": "code",
   "execution_count": 92,
   "id": "dacd46b7-145c-49b6-8634-08ae53db7024",
   "metadata": {},
   "outputs": [
    {
     "ename": "NameError",
     "evalue": "name 'X_rfe' is not defined",
     "output_type": "error",
     "traceback": [
      "\u001b[1;31m---------------------------------------------------------------------------\u001b[0m",
      "\u001b[1;31mNameError\u001b[0m                                 Traceback (most recent call last)",
      "Cell \u001b[1;32mIn[92], line 2\u001b[0m\n\u001b[0;32m      1\u001b[0m clf_rf\u001b[38;5;241m=\u001b[39mRandomForestClassifier(n_estimators\u001b[38;5;241m=\u001b[39m\u001b[38;5;241m10\u001b[39m,n_jobs\u001b[38;5;241m=\u001b[39m\u001b[38;5;241m1\u001b[39m)\n\u001b[1;32m----> 2\u001b[0m clf_rf\u001b[38;5;241m.\u001b[39mfit(\u001b[43mX_rfe\u001b[49m, Y\u001b[38;5;241m.\u001b[39mastype(\u001b[38;5;28mint\u001b[39m))\n",
      "\u001b[1;31mNameError\u001b[0m: name 'X_rfe' is not defined"
     ]
    }
   ],
   "source": [
    "clf_rf=RandomForestClassifier(n_estimators=10,n_jobs=1)\n",
    "clf_rf.fit(X_rfe, Y.astype(int))"
   ]
  },
  {
   "cell_type": "code",
   "execution_count": null,
   "id": "79341427-7d1d-4104-8c2e-2b3adbac3253",
   "metadata": {},
   "outputs": [],
   "source": []
  }
 ],
 "metadata": {
  "kernelspec": {
   "display_name": "Python 3 (ipykernel)",
   "language": "python",
   "name": "python3"
  },
  "language_info": {
   "codemirror_mode": {
    "name": "ipython",
    "version": 3
   },
   "file_extension": ".py",
   "mimetype": "text/x-python",
   "name": "python",
   "nbconvert_exporter": "python",
   "pygments_lexer": "ipython3",
   "version": "3.11.5"
  }
 },
 "nbformat": 4,
 "nbformat_minor": 5
}
